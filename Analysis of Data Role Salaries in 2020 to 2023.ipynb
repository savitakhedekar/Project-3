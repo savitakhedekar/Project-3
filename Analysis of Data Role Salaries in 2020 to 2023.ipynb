{
 "cells": [
  {
   "cell_type": "markdown",
   "id": "fc87431d-734c-46df-9f15-45701fc85583",
   "metadata": {},
   "source": [
    "Content:\n",
    "        Column names & Description\n",
    "- work_year: The year the salary was paid.\n",
    "- experience_level: The experience level in the job during the year with the following possible values\n",
    "    - EN Entry-level\n",
    "    - MI Junior Mid-level\n",
    "    - SE Intermediate Senior-level\n",
    "    - EX Expert Executive-level / Director\n",
    "- employment_type: The type of employement for the role\n",
    "    - PT Part-time\n",
    "    - FT Full-time\n",
    "    - CT Contract\n",
    "    - FL Freelance\n",
    "- job_title: The role worked in during the year.\n",
    "- salary: The total gross salary amount paid.\n",
    "- salary_currency: The currency of the salary paid as an ISO 4217 currency code.\n",
    "- salary_in_usd: The salary in USD (FX rate divided by avg. USD rate for the respective year via fxdata.foorilla.com.\n",
    "- employee_residence: Employee's primary country of residence in during the work year as an ISO 3166 country code.\n",
    "- remote_ratio: The overall amount of work done remotely, possible values are as follows\n",
    "    - 0 No remote work (less than 20%)\n",
    "    - 50 Partially remote\n",
    "    - 100 Fully remote (more than 80%)\n",
    "- company_location: The country of the employer's main office or contracting branch as an ISO 3166 country code.\n",
    "- company_size: The average number of people that worked for the company during the year\n",
    "    - S less than 50 employees (small)\n",
    "    - M 50 to 250 employees (medium)\n",
    "    - L more than 250 employees (large)"
   ]
  },
  {
   "cell_type": "code",
   "execution_count": 32,
   "id": "129fbfce-1a73-4d00-a152-b5505af3d6b9",
   "metadata": {},
   "outputs": [
    {
     "name": "stdout",
     "output_type": "stream",
     "text": [
      "Requirement already satisfied: pycountry in /opt/anaconda3/lib/python3.11/site-packages (24.6.1)\n",
      "Note: you may need to restart the kernel to use updated packages.\n"
     ]
    }
   ],
   "source": [
    "pip install pycountry"
   ]
  },
  {
   "cell_type": "code",
   "execution_count": 33,
   "id": "fb60c42d-6f21-43b8-824a-4e21a8b40327",
   "metadata": {},
   "outputs": [],
   "source": [
    "import pandas as pd\n",
    "import pycountry                    # library to convert country codes\n",
    "import seaborn as sns \n",
    "import matplotlib.pyplot as plt\n",
    "import numpy as np\n",
    "\n",
    "\n",
    "# Load dataset from an online source\n",
    "url = 'https://raw.githubusercontent.com/AncaAl/Project-3/main/ds_salaries.csv'\n",
    "df = pd.read_csv(url)"
   ]
  },
  {
   "cell_type": "markdown",
   "id": "c8b1174e-5a50-4800-8151-9ee7bb962230",
   "metadata": {},
   "source": [
    "### Data wrangling"
   ]
  },
  {
   "cell_type": "code",
   "execution_count": 34,
   "id": "eda8d806-ae29-4793-922b-c2d1c1c5b41f",
   "metadata": {},
   "outputs": [],
   "source": [
    "#change the name of the columns\n",
    "df.rename(columns = {\"company_location\" : \"country_code\", \"work_year\" : \"year\"}, inplace=True)"
   ]
  },
  {
   "cell_type": "code",
   "execution_count": 35,
   "id": "a7b762dd-66b2-4687-ae9b-66fa9a695a3e",
   "metadata": {
    "scrolled": true
   },
   "outputs": [
    {
     "data": {
      "text/html": [
       "<div>\n",
       "<style scoped>\n",
       "    .dataframe tbody tr th:only-of-type {\n",
       "        vertical-align: middle;\n",
       "    }\n",
       "\n",
       "    .dataframe tbody tr th {\n",
       "        vertical-align: top;\n",
       "    }\n",
       "\n",
       "    .dataframe thead th {\n",
       "        text-align: right;\n",
       "    }\n",
       "</style>\n",
       "<table border=\"1\" class=\"dataframe\">\n",
       "  <thead>\n",
       "    <tr style=\"text-align: right;\">\n",
       "      <th></th>\n",
       "      <th>year</th>\n",
       "      <th>experience_level</th>\n",
       "      <th>employment_type</th>\n",
       "      <th>job_title</th>\n",
       "      <th>salary</th>\n",
       "      <th>salary_currency</th>\n",
       "      <th>salary_in_usd</th>\n",
       "      <th>employee_residence</th>\n",
       "      <th>remote_ratio</th>\n",
       "      <th>country_code</th>\n",
       "      <th>company_size</th>\n",
       "      <th>country</th>\n",
       "    </tr>\n",
       "  </thead>\n",
       "  <tbody>\n",
       "    <tr>\n",
       "      <th>0</th>\n",
       "      <td>2023</td>\n",
       "      <td>SE</td>\n",
       "      <td>FT</td>\n",
       "      <td>Principal Data Scientist</td>\n",
       "      <td>80000</td>\n",
       "      <td>EUR</td>\n",
       "      <td>85847</td>\n",
       "      <td>ES</td>\n",
       "      <td>100</td>\n",
       "      <td>ES</td>\n",
       "      <td>L</td>\n",
       "      <td>Spain</td>\n",
       "    </tr>\n",
       "    <tr>\n",
       "      <th>1</th>\n",
       "      <td>2023</td>\n",
       "      <td>MI</td>\n",
       "      <td>CT</td>\n",
       "      <td>ML Engineer</td>\n",
       "      <td>30000</td>\n",
       "      <td>USD</td>\n",
       "      <td>30000</td>\n",
       "      <td>US</td>\n",
       "      <td>100</td>\n",
       "      <td>US</td>\n",
       "      <td>S</td>\n",
       "      <td>United States</td>\n",
       "    </tr>\n",
       "    <tr>\n",
       "      <th>2</th>\n",
       "      <td>2023</td>\n",
       "      <td>MI</td>\n",
       "      <td>CT</td>\n",
       "      <td>ML Engineer</td>\n",
       "      <td>25500</td>\n",
       "      <td>USD</td>\n",
       "      <td>25500</td>\n",
       "      <td>US</td>\n",
       "      <td>100</td>\n",
       "      <td>US</td>\n",
       "      <td>S</td>\n",
       "      <td>United States</td>\n",
       "    </tr>\n",
       "    <tr>\n",
       "      <th>3</th>\n",
       "      <td>2023</td>\n",
       "      <td>SE</td>\n",
       "      <td>FT</td>\n",
       "      <td>Data Scientist</td>\n",
       "      <td>175000</td>\n",
       "      <td>USD</td>\n",
       "      <td>175000</td>\n",
       "      <td>CA</td>\n",
       "      <td>100</td>\n",
       "      <td>CA</td>\n",
       "      <td>M</td>\n",
       "      <td>Canada</td>\n",
       "    </tr>\n",
       "    <tr>\n",
       "      <th>4</th>\n",
       "      <td>2023</td>\n",
       "      <td>SE</td>\n",
       "      <td>FT</td>\n",
       "      <td>Data Scientist</td>\n",
       "      <td>120000</td>\n",
       "      <td>USD</td>\n",
       "      <td>120000</td>\n",
       "      <td>CA</td>\n",
       "      <td>100</td>\n",
       "      <td>CA</td>\n",
       "      <td>M</td>\n",
       "      <td>Canada</td>\n",
       "    </tr>\n",
       "    <tr>\n",
       "      <th>...</th>\n",
       "      <td>...</td>\n",
       "      <td>...</td>\n",
       "      <td>...</td>\n",
       "      <td>...</td>\n",
       "      <td>...</td>\n",
       "      <td>...</td>\n",
       "      <td>...</td>\n",
       "      <td>...</td>\n",
       "      <td>...</td>\n",
       "      <td>...</td>\n",
       "      <td>...</td>\n",
       "      <td>...</td>\n",
       "    </tr>\n",
       "    <tr>\n",
       "      <th>3750</th>\n",
       "      <td>2020</td>\n",
       "      <td>SE</td>\n",
       "      <td>FT</td>\n",
       "      <td>Data Scientist</td>\n",
       "      <td>412000</td>\n",
       "      <td>USD</td>\n",
       "      <td>412000</td>\n",
       "      <td>US</td>\n",
       "      <td>100</td>\n",
       "      <td>US</td>\n",
       "      <td>L</td>\n",
       "      <td>United States</td>\n",
       "    </tr>\n",
       "    <tr>\n",
       "      <th>3751</th>\n",
       "      <td>2021</td>\n",
       "      <td>MI</td>\n",
       "      <td>FT</td>\n",
       "      <td>Principal Data Scientist</td>\n",
       "      <td>151000</td>\n",
       "      <td>USD</td>\n",
       "      <td>151000</td>\n",
       "      <td>US</td>\n",
       "      <td>100</td>\n",
       "      <td>US</td>\n",
       "      <td>L</td>\n",
       "      <td>United States</td>\n",
       "    </tr>\n",
       "    <tr>\n",
       "      <th>3752</th>\n",
       "      <td>2020</td>\n",
       "      <td>EN</td>\n",
       "      <td>FT</td>\n",
       "      <td>Data Scientist</td>\n",
       "      <td>105000</td>\n",
       "      <td>USD</td>\n",
       "      <td>105000</td>\n",
       "      <td>US</td>\n",
       "      <td>100</td>\n",
       "      <td>US</td>\n",
       "      <td>S</td>\n",
       "      <td>United States</td>\n",
       "    </tr>\n",
       "    <tr>\n",
       "      <th>3753</th>\n",
       "      <td>2020</td>\n",
       "      <td>EN</td>\n",
       "      <td>CT</td>\n",
       "      <td>Business Data Analyst</td>\n",
       "      <td>100000</td>\n",
       "      <td>USD</td>\n",
       "      <td>100000</td>\n",
       "      <td>US</td>\n",
       "      <td>100</td>\n",
       "      <td>US</td>\n",
       "      <td>L</td>\n",
       "      <td>United States</td>\n",
       "    </tr>\n",
       "    <tr>\n",
       "      <th>3754</th>\n",
       "      <td>2021</td>\n",
       "      <td>SE</td>\n",
       "      <td>FT</td>\n",
       "      <td>Data Science Manager</td>\n",
       "      <td>7000000</td>\n",
       "      <td>INR</td>\n",
       "      <td>94665</td>\n",
       "      <td>IN</td>\n",
       "      <td>50</td>\n",
       "      <td>IN</td>\n",
       "      <td>L</td>\n",
       "      <td>India</td>\n",
       "    </tr>\n",
       "  </tbody>\n",
       "</table>\n",
       "<p>3755 rows × 12 columns</p>\n",
       "</div>"
      ],
      "text/plain": [
       "      year experience_level employment_type                 job_title  \\\n",
       "0     2023               SE              FT  Principal Data Scientist   \n",
       "1     2023               MI              CT               ML Engineer   \n",
       "2     2023               MI              CT               ML Engineer   \n",
       "3     2023               SE              FT            Data Scientist   \n",
       "4     2023               SE              FT            Data Scientist   \n",
       "...    ...              ...             ...                       ...   \n",
       "3750  2020               SE              FT            Data Scientist   \n",
       "3751  2021               MI              FT  Principal Data Scientist   \n",
       "3752  2020               EN              FT            Data Scientist   \n",
       "3753  2020               EN              CT     Business Data Analyst   \n",
       "3754  2021               SE              FT      Data Science Manager   \n",
       "\n",
       "       salary salary_currency  salary_in_usd employee_residence  remote_ratio  \\\n",
       "0       80000             EUR          85847                 ES           100   \n",
       "1       30000             USD          30000                 US           100   \n",
       "2       25500             USD          25500                 US           100   \n",
       "3      175000             USD         175000                 CA           100   \n",
       "4      120000             USD         120000                 CA           100   \n",
       "...       ...             ...            ...                ...           ...   \n",
       "3750   412000             USD         412000                 US           100   \n",
       "3751   151000             USD         151000                 US           100   \n",
       "3752   105000             USD         105000                 US           100   \n",
       "3753   100000             USD         100000                 US           100   \n",
       "3754  7000000             INR          94665                 IN            50   \n",
       "\n",
       "     country_code company_size        country  \n",
       "0              ES            L          Spain  \n",
       "1              US            S  United States  \n",
       "2              US            S  United States  \n",
       "3              CA            M         Canada  \n",
       "4              CA            M         Canada  \n",
       "...           ...          ...            ...  \n",
       "3750           US            L  United States  \n",
       "3751           US            L  United States  \n",
       "3752           US            S  United States  \n",
       "3753           US            L  United States  \n",
       "3754           IN            L          India  \n",
       "\n",
       "[3755 rows x 12 columns]"
      ]
     },
     "execution_count": 35,
     "metadata": {},
     "output_type": "execute_result"
    }
   ],
   "source": [
    "# Function to convert a two-letter code to a full country name using pycountry\n",
    "\n",
    "def convert_code_to_name(code):\n",
    "    try:\n",
    "        country = pycountry.countries.get(alpha_2=code)     # Lookup the country by alpha_2 code\n",
    "        return country.name\n",
    "    except KeyError:\n",
    "        return code\n",
    "\n",
    "df['country'] = df['country_code'].apply(convert_code_to_name)\n",
    "df"
   ]
  },
  {
   "cell_type": "code",
   "execution_count": null,
   "id": "6edc9c63-e389-43ca-b2e5-cf617c28c0c0",
   "metadata": {},
   "outputs": [],
   "source": []
  },
  {
   "cell_type": "code",
   "execution_count": 36,
   "id": "8cef69b0-5569-4579-9ee3-435b911eb012",
   "metadata": {},
   "outputs": [
    {
     "name": "stdout",
     "output_type": "stream",
     "text": [
      "<class 'pandas.core.frame.DataFrame'>\n",
      "RangeIndex: 3755 entries, 0 to 3754\n",
      "Data columns (total 12 columns):\n",
      " #   Column              Non-Null Count  Dtype \n",
      "---  ------              --------------  ----- \n",
      " 0   year                3755 non-null   int64 \n",
      " 1   experience_level    3755 non-null   object\n",
      " 2   employment_type     3755 non-null   object\n",
      " 3   job_title           3755 non-null   object\n",
      " 4   salary              3755 non-null   int64 \n",
      " 5   salary_currency     3755 non-null   object\n",
      " 6   salary_in_usd       3755 non-null   int64 \n",
      " 7   employee_residence  3755 non-null   object\n",
      " 8   remote_ratio        3755 non-null   int64 \n",
      " 9   country_code        3755 non-null   object\n",
      " 10  company_size        3755 non-null   object\n",
      " 11  country             3755 non-null   object\n",
      "dtypes: int64(4), object(8)\n",
      "memory usage: 352.2+ KB\n"
     ]
    }
   ],
   "source": [
    "df.info()"
   ]
  },
  {
   "cell_type": "code",
   "execution_count": 37,
   "id": "545b408e-e30c-46a9-a12f-95c1b6c23363",
   "metadata": {},
   "outputs": [],
   "source": [
    "#changing the name of 2 columns:\n"
   ]
  },
  {
   "cell_type": "code",
   "execution_count": 38,
   "id": "76e257e0-082f-49bb-9c56-ab1c7d4aad43",
   "metadata": {},
   "outputs": [
    {
     "name": "stdout",
     "output_type": "stream",
     "text": [
      "experience_level\n",
      "SE    2516\n",
      "MI     805\n",
      "EN     320\n",
      "EX     114\n",
      "Name: count, dtype: int64\n",
      "\n",
      "employment_type\n",
      "FT    3718\n",
      "PT      17\n",
      "CT      10\n",
      "FL      10\n",
      "Name: count, dtype: int64\n",
      "\n",
      "job_title\n",
      "Data Engineer                          1040\n",
      "Data Scientist                          840\n",
      "Data Analyst                            612\n",
      "Machine Learning Engineer               289\n",
      "Analytics Engineer                      103\n",
      "                                       ... \n",
      "Principal Machine Learning Engineer       1\n",
      "Azure Data Engineer                       1\n",
      "Manager Data Management                   1\n",
      "Marketing Data Engineer                   1\n",
      "Finance Data Analyst                      1\n",
      "Name: count, Length: 93, dtype: int64\n",
      "\n",
      "salary_currency\n",
      "USD    3224\n",
      "EUR     236\n",
      "GBP     161\n",
      "INR      60\n",
      "CAD      25\n",
      "AUD       9\n",
      "SGD       6\n",
      "BRL       6\n",
      "PLN       5\n",
      "CHF       4\n",
      "HUF       3\n",
      "DKK       3\n",
      "JPY       3\n",
      "TRY       3\n",
      "THB       2\n",
      "ILS       1\n",
      "HKD       1\n",
      "CZK       1\n",
      "MXN       1\n",
      "CLP       1\n",
      "Name: count, dtype: int64\n",
      "\n",
      "employee_residence\n",
      "US    3004\n",
      "GB     167\n",
      "CA      85\n",
      "ES      80\n",
      "IN      71\n",
      "      ... \n",
      "BA       1\n",
      "AM       1\n",
      "CY       1\n",
      "KW       1\n",
      "MT       1\n",
      "Name: count, Length: 78, dtype: int64\n",
      "\n",
      "country_code\n",
      "US    3040\n",
      "GB     172\n",
      "CA      87\n",
      "ES      77\n",
      "IN      58\n",
      "      ... \n",
      "MK       1\n",
      "BS       1\n",
      "IR       1\n",
      "CR       1\n",
      "MT       1\n",
      "Name: count, Length: 72, dtype: int64\n",
      "\n",
      "company_size\n",
      "M    3153\n",
      "L     454\n",
      "S     148\n",
      "Name: count, dtype: int64\n",
      "\n",
      "country\n",
      "United States                3040\n",
      "United Kingdom                172\n",
      "Canada                         87\n",
      "Spain                          77\n",
      "India                          58\n",
      "                             ... \n",
      "North Macedonia                 1\n",
      "Bahamas                         1\n",
      "Iran, Islamic Republic of       1\n",
      "Costa Rica                      1\n",
      "Malta                           1\n",
      "Name: count, Length: 72, dtype: int64\n",
      "\n"
     ]
    }
   ],
   "source": [
    "# Summary for categorical variables\n",
    "for column in df.describe(include=[\"O\"]).columns:\n",
    "    print(df[column].value_counts())\n",
    "    print()"
   ]
  },
  {
   "cell_type": "code",
   "execution_count": null,
   "id": "f4c8aea4-b0e7-4d0d-a6b8-45d270cc645b",
   "metadata": {},
   "outputs": [],
   "source": []
  },
  {
   "cell_type": "code",
   "execution_count": 41,
   "id": "735fd97f-7f27-40c5-939b-7db9134a44ea",
   "metadata": {},
   "outputs": [
    {
     "ename": "NameError",
     "evalue": "name 'filtered_df' is not defined",
     "output_type": "error",
     "traceback": [
      "\u001b[0;31m---------------------------------------------------------------------------\u001b[0m",
      "\u001b[0;31mNameError\u001b[0m                                 Traceback (most recent call last)",
      "Cell \u001b[0;32mIn[41], line 1\u001b[0m\n\u001b[0;32m----> 1\u001b[0m sns\u001b[38;5;241m.\u001b[39mcountplot(y\u001b[38;5;241m=\u001b[39m\u001b[38;5;124m'\u001b[39m\u001b[38;5;124mcountry\u001b[39m\u001b[38;5;124m'\u001b[39m, data\u001b[38;5;241m=\u001b[39mfiltered_df)                          \u001b[38;5;66;03m# Bar chart\u001b[39;00m\n\u001b[1;32m      2\u001b[0m plt\u001b[38;5;241m.\u001b[39mtitle(\u001b[38;5;124m\"\u001b[39m\u001b[38;5;124mTop 10 countries - all df\u001b[39m\u001b[38;5;124m\"\u001b[39m)\n",
      "\u001b[0;31mNameError\u001b[0m: name 'filtered_df' is not defined"
     ]
    }
   ],
   "source": [
    "sns.countplot(y='country', data=filtered_df)                          # Bar chart\n",
    "plt.title(\"Top 10 countries - all df\")"
   ]
  },
  {
   "cell_type": "code",
   "execution_count": 40,
   "id": "4ce729a8-0b55-4575-866b-dd6a6f9563f3",
   "metadata": {},
   "outputs": [
    {
     "data": {
      "text/plain": [
       "Text(0.5, 1.0, 'Spread of company size')"
      ]
     },
     "execution_count": 40,
     "metadata": {},
     "output_type": "execute_result"
    },
    {
     "data": {
      "image/png": "[encoded data removed]",
      "text/plain": [
       "<Figure size 640x480 with 1 Axes>"
      ]
     },
     "metadata": {},
     "output_type": "display_data"
    }
   ],
   "source": [
    "#Spread of company size\n",
    "df['company_size'].value_counts().plot(kind='pie')\n",
    "plt.title(\"Spread of company size\") "
   ]
  },
  {
   "cell_type": "code",
   "execution_count": 78,
   "id": "a87f959a-c4ad-4595-817a-68ddf21b7ad7",
   "metadata": {},
   "outputs": [
    {
     "data": {
      "text/plain": [
       "Text(0.5, 1.0, 'Spread of employment_type')"
      ]
     },
     "execution_count": 78,
     "metadata": {},
     "output_type": "execute_result"
    },
    {
     "data": {
      "image/png": "[encoded data removed]",
      "text/plain": [
       "<Figure size 640x480 with 1 Axes>"
      ]
     },
     "metadata": {},
     "output_type": "display_data"
    }
   ],
   "source": [
    "#Spread of experience_level\n",
    "df['employment_type'].value_counts().plot(kind='pie')\n",
    "#sns.countplot(x='employment_type', data = df) \n",
    "plt.title(\"Spread of employment_type\") "
   ]
  },
  {
   "cell_type": "code",
   "execution_count": 19,
   "id": "cbc96eb4-da03-41e7-8ed0-1ef686ac6ae9",
   "metadata": {},
   "outputs": [
    {
     "data": {
      "text/plain": [
       "Text(0.5, 0, 'Entry-level, Junior Mid-level, Intermediate Senior-level, Expert Executive-level / Director')"
      ]
     },
     "execution_count": 19,
     "metadata": {},
     "output_type": "execute_result"
    },
    {
     "data": {
      "image/png": "[encoded data removed]",
      "text/plain": [
       "<Figure size 640x480 with 1 Axes>"
      ]
     },
     "metadata": {},
     "output_type": "display_data"
    }
   ],
   "source": [
    "#Spread of experience_level\n",
    "sns.countplot(x='experience_level', data = df) \n",
    "plt.title(\"Spread of experience_level\") \n",
    "\n",
    "plt.xlabel(\"Entry-level, Junior Mid-level, Intermediate Senior-level, Expert Executive-level / Director\") "
   ]
  },
  {
   "cell_type": "markdown",
   "id": "47cfd38a-d054-4c33-ad0a-a1232b8a219f",
   "metadata": {},
   "source": [
    "From the countplot above, we can notice that Senior-level/Expert represent ...%,  Mid-level/Intermediate ranked the next.\n",
    "There's only ....% of Executive-level/Directior."
   ]
  },
  {
   "cell_type": "code",
   "execution_count": 12,
   "id": "3045a411-73a4-4b5e-af1c-b8d3fdf20cd1",
   "metadata": {},
   "outputs": [
    {
     "data": {
      "text/html": [
       "<div>\n",
       "<style scoped>\n",
       "    .dataframe tbody tr th:only-of-type {\n",
       "        vertical-align: middle;\n",
       "    }\n",
       "\n",
       "    .dataframe tbody tr th {\n",
       "        vertical-align: top;\n",
       "    }\n",
       "\n",
       "    .dataframe thead th {\n",
       "        text-align: right;\n",
       "    }\n",
       "</style>\n",
       "<table border=\"1\" class=\"dataframe\">\n",
       "  <thead>\n",
       "    <tr style=\"text-align: right;\">\n",
       "      <th></th>\n",
       "      <th>year</th>\n",
       "      <th>salary</th>\n",
       "      <th>salary_in_usd</th>\n",
       "      <th>remote_ratio</th>\n",
       "    </tr>\n",
       "  </thead>\n",
       "  <tbody>\n",
       "    <tr>\n",
       "      <th>count</th>\n",
       "      <td>3755.0</td>\n",
       "      <td>3755.0</td>\n",
       "      <td>3755.0</td>\n",
       "      <td>3755.0</td>\n",
       "    </tr>\n",
       "    <tr>\n",
       "      <th>mean</th>\n",
       "      <td>2022.0</td>\n",
       "      <td>190696.0</td>\n",
       "      <td>137570.0</td>\n",
       "      <td>46.0</td>\n",
       "    </tr>\n",
       "    <tr>\n",
       "      <th>std</th>\n",
       "      <td>1.0</td>\n",
       "      <td>671677.0</td>\n",
       "      <td>63056.0</td>\n",
       "      <td>49.0</td>\n",
       "    </tr>\n",
       "    <tr>\n",
       "      <th>min</th>\n",
       "      <td>2020.0</td>\n",
       "      <td>6000.0</td>\n",
       "      <td>5132.0</td>\n",
       "      <td>0.0</td>\n",
       "    </tr>\n",
       "    <tr>\n",
       "      <th>25%</th>\n",
       "      <td>2022.0</td>\n",
       "      <td>100000.0</td>\n",
       "      <td>95000.0</td>\n",
       "      <td>0.0</td>\n",
       "    </tr>\n",
       "    <tr>\n",
       "      <th>50%</th>\n",
       "      <td>2022.0</td>\n",
       "      <td>138000.0</td>\n",
       "      <td>135000.0</td>\n",
       "      <td>0.0</td>\n",
       "    </tr>\n",
       "    <tr>\n",
       "      <th>75%</th>\n",
       "      <td>2023.0</td>\n",
       "      <td>180000.0</td>\n",
       "      <td>175000.0</td>\n",
       "      <td>100.0</td>\n",
       "    </tr>\n",
       "    <tr>\n",
       "      <th>max</th>\n",
       "      <td>2023.0</td>\n",
       "      <td>30400000.0</td>\n",
       "      <td>450000.0</td>\n",
       "      <td>100.0</td>\n",
       "    </tr>\n",
       "  </tbody>\n",
       "</table>\n",
       "</div>"
      ],
      "text/plain": [
       "         year      salary  salary_in_usd  remote_ratio\n",
       "count  3755.0      3755.0         3755.0        3755.0\n",
       "mean   2022.0    190696.0       137570.0          46.0\n",
       "std       1.0    671677.0        63056.0          49.0\n",
       "min    2020.0      6000.0         5132.0           0.0\n",
       "25%    2022.0    100000.0        95000.0           0.0\n",
       "50%    2022.0    138000.0       135000.0           0.0\n",
       "75%    2023.0    180000.0       175000.0         100.0\n",
       "max    2023.0  30400000.0       450000.0         100.0"
      ]
     },
     "execution_count": 12,
     "metadata": {},
     "output_type": "execute_result"
    }
   ],
   "source": [
    "round(df.describe(include=\"number\"),)"
   ]
  },
  {
   "cell_type": "code",
   "execution_count": 76,
   "id": "54fdeb9c-6551-4b76-9321-c8016cb3e067",
   "metadata": {},
   "outputs": [
    {
     "data": {
      "text/html": [
       "<div>\n",
       "<style scoped>\n",
       "    .dataframe tbody tr th:only-of-type {\n",
       "        vertical-align: middle;\n",
       "    }\n",
       "\n",
       "    .dataframe tbody tr th {\n",
       "        vertical-align: top;\n",
       "    }\n",
       "\n",
       "    .dataframe thead th {\n",
       "        text-align: right;\n",
       "    }\n",
       "</style>\n",
       "<table border=\"1\" class=\"dataframe\">\n",
       "  <thead>\n",
       "    <tr style=\"text-align: right;\">\n",
       "      <th></th>\n",
       "      <th>min</th>\n",
       "      <th>max</th>\n",
       "      <th>mean</th>\n",
       "      <th>median</th>\n",
       "    </tr>\n",
       "    <tr>\n",
       "      <th>experience_level</th>\n",
       "      <th></th>\n",
       "      <th></th>\n",
       "      <th></th>\n",
       "      <th></th>\n",
       "    </tr>\n",
       "  </thead>\n",
       "  <tbody>\n",
       "    <tr>\n",
       "      <th>Entry Level</th>\n",
       "      <td>5409</td>\n",
       "      <td>300000</td>\n",
       "      <td>78546.3</td>\n",
       "      <td>70000.0</td>\n",
       "    </tr>\n",
       "    <tr>\n",
       "      <th>Executive Level</th>\n",
       "      <td>15000</td>\n",
       "      <td>416000</td>\n",
       "      <td>194930.9</td>\n",
       "      <td>196000.0</td>\n",
       "    </tr>\n",
       "    <tr>\n",
       "      <th>Mid Level</th>\n",
       "      <td>5132</td>\n",
       "      <td>450000</td>\n",
       "      <td>104525.9</td>\n",
       "      <td>100000.0</td>\n",
       "    </tr>\n",
       "    <tr>\n",
       "      <th>Senior Level</th>\n",
       "      <td>8000</td>\n",
       "      <td>423834</td>\n",
       "      <td>153051.1</td>\n",
       "      <td>146000.0</td>\n",
       "    </tr>\n",
       "  </tbody>\n",
       "</table>\n",
       "</div>"
      ],
      "text/plain": [
       "                    min     max      mean    median\n",
       "experience_level                                   \n",
       "Entry Level        5409  300000   78546.3   70000.0\n",
       "Executive Level   15000  416000  194930.9  196000.0\n",
       "Mid Level          5132  450000  104525.9  100000.0\n",
       "Senior Level       8000  423834  153051.1  146000.0"
      ]
     },
     "execution_count": 76,
     "metadata": {},
     "output_type": "execute_result"
    }
   ],
   "source": [
    "# calculated the min, max, mean and median According to experience_level\n",
    "\n",
    "experience_level_df = round(df.groupby('experience_level')['salary_in_usd'].agg(['min', 'max', 'mean', 'median']),1)\n",
    "\n",
    "experience_level_map = {\n",
    "    'EN': 'Entry Level',\n",
    "    'EX': 'Executive Level',\n",
    "    'MI': 'Mid Level',\n",
    "    'SE': 'Senior Level'\n",
    "                        }\n",
    "\n",
    "experience_level_df = experience_level_df.rename(index=experience_level_map)\n",
    "experience_level_df"
   ]
  },
  {
   "cell_type": "code",
   "execution_count": 65,
   "id": "a9ea8440-218d-4232-a849-2258ac6053df",
   "metadata": {},
   "outputs": [
    {
     "data": {
      "text/html": [
       "<div>\n",
       "<style scoped>\n",
       "    .dataframe tbody tr th:only-of-type {\n",
       "        vertical-align: middle;\n",
       "    }\n",
       "\n",
       "    .dataframe tbody tr th {\n",
       "        vertical-align: top;\n",
       "    }\n",
       "\n",
       "    .dataframe thead th {\n",
       "        text-align: right;\n",
       "    }\n",
       "</style>\n",
       "<table border=\"1\" class=\"dataframe\">\n",
       "  <thead>\n",
       "    <tr style=\"text-align: right;\">\n",
       "      <th></th>\n",
       "      <th>count</th>\n",
       "      <th>min</th>\n",
       "      <th>max</th>\n",
       "      <th>mean</th>\n",
       "      <th>median</th>\n",
       "    </tr>\n",
       "    <tr>\n",
       "      <th>job_title</th>\n",
       "      <th></th>\n",
       "      <th></th>\n",
       "      <th></th>\n",
       "      <th></th>\n",
       "      <th></th>\n",
       "    </tr>\n",
       "  </thead>\n",
       "  <tbody>\n",
       "    <tr>\n",
       "      <th>Data Engineer</th>\n",
       "      <td>1040</td>\n",
       "      <td>12000</td>\n",
       "      <td>324000</td>\n",
       "      <td>142785.7</td>\n",
       "      <td>135000.0</td>\n",
       "    </tr>\n",
       "    <tr>\n",
       "      <th>Data Scientist</th>\n",
       "      <td>840</td>\n",
       "      <td>5679</td>\n",
       "      <td>412000</td>\n",
       "      <td>140869.8</td>\n",
       "      <td>141525.0</td>\n",
       "    </tr>\n",
       "    <tr>\n",
       "      <th>Data Analyst</th>\n",
       "      <td>612</td>\n",
       "      <td>5723</td>\n",
       "      <td>430967</td>\n",
       "      <td>108716.2</td>\n",
       "      <td>106020.0</td>\n",
       "    </tr>\n",
       "    <tr>\n",
       "      <th>Machine Learning Engineer</th>\n",
       "      <td>289</td>\n",
       "      <td>12000</td>\n",
       "      <td>342300</td>\n",
       "      <td>154690.7</td>\n",
       "      <td>150000.0</td>\n",
       "    </tr>\n",
       "    <tr>\n",
       "      <th>Analytics Engineer</th>\n",
       "      <td>103</td>\n",
       "      <td>7500</td>\n",
       "      <td>289800</td>\n",
       "      <td>152368.6</td>\n",
       "      <td>143860.0</td>\n",
       "    </tr>\n",
       "    <tr>\n",
       "      <th>Data Architect</th>\n",
       "      <td>101</td>\n",
       "      <td>63000</td>\n",
       "      <td>376080</td>\n",
       "      <td>161713.8</td>\n",
       "      <td>160000.0</td>\n",
       "    </tr>\n",
       "    <tr>\n",
       "      <th>Research Scientist</th>\n",
       "      <td>82</td>\n",
       "      <td>23000</td>\n",
       "      <td>450000</td>\n",
       "      <td>161214.2</td>\n",
       "      <td>150000.0</td>\n",
       "    </tr>\n",
       "    <tr>\n",
       "      <th>Data Science Manager</th>\n",
       "      <td>58</td>\n",
       "      <td>54094</td>\n",
       "      <td>300000</td>\n",
       "      <td>191278.8</td>\n",
       "      <td>183780.0</td>\n",
       "    </tr>\n",
       "    <tr>\n",
       "      <th>Applied Scientist</th>\n",
       "      <td>58</td>\n",
       "      <td>72000</td>\n",
       "      <td>350000</td>\n",
       "      <td>190264.5</td>\n",
       "      <td>191737.5</td>\n",
       "    </tr>\n",
       "    <tr>\n",
       "      <th>Research Engineer</th>\n",
       "      <td>37</td>\n",
       "      <td>60000</td>\n",
       "      <td>293000</td>\n",
       "      <td>163108.4</td>\n",
       "      <td>155000.0</td>\n",
       "    </tr>\n",
       "  </tbody>\n",
       "</table>\n",
       "</div>"
      ],
      "text/plain": [
       "                           count    min     max      mean    median\n",
       "job_title                                                          \n",
       "Data Engineer               1040  12000  324000  142785.7  135000.0\n",
       "Data Scientist               840   5679  412000  140869.8  141525.0\n",
       "Data Analyst                 612   5723  430967  108716.2  106020.0\n",
       "Machine Learning Engineer    289  12000  342300  154690.7  150000.0\n",
       "Analytics Engineer           103   7500  289800  152368.6  143860.0\n",
       "Data Architect               101  63000  376080  161713.8  160000.0\n",
       "Research Scientist            82  23000  450000  161214.2  150000.0\n",
       "Data Science Manager          58  54094  300000  191278.8  183780.0\n",
       "Applied Scientist             58  72000  350000  190264.5  191737.5\n",
       "Research Engineer             37  60000  293000  163108.4  155000.0"
      ]
     },
     "execution_count": 65,
     "metadata": {},
     "output_type": "execute_result"
    }
   ],
   "source": [
    "# calculated the min, max, mean and median for each job in ITData industry\n",
    "result = round(df.groupby('job_title')['salary_in_usd'].agg(['count','min', 'max', 'mean', 'median']),1)\n",
    "sorted_result = result.sort_values(by='count', ascending=False)\n",
    "sorted_result[0:10]"
   ]
  },
  {
   "cell_type": "markdown",
   "id": "884e6650-58b4-4b49-a826-1bf211059c60",
   "metadata": {},
   "source": [
    "We can noticed that the mean and the median are almost the same; which means that the salary has a symmetrical distribution. "
   ]
  },
  {
   "cell_type": "code",
   "execution_count": null,
   "id": "46758fc8-2c1b-4810-9820-ee994f52e52d",
   "metadata": {},
   "outputs": [],
   "source": []
  },
  {
   "cell_type": "code",
   "execution_count": 45,
   "id": "1f06b45e-4781-417c-9254-15f9e7d6819c",
   "metadata": {},
   "outputs": [],
   "source": [
    "df['year'] = df['year'].astype(str)   # change the datatype of the column year\n",
    "# print(df.dtypes)"
   ]
  },
  {
   "cell_type": "code",
   "execution_count": 55,
   "id": "d10d85b1-a27e-4c3b-b567-1650e1abcc9b",
   "metadata": {},
   "outputs": [],
   "source": [
    "grouped_year = df.groupby('year')\n",
    "grouped_year_2020 = grouped_year.get_group(\"2020\")\n",
    "grouped_year_2021 = grouped_year.get_group(\"2021\")\n",
    "grouped_year_2022 = grouped_year.get_group(\"2022\")\n",
    "grouped_year_2023 = grouped_year.get_group(\"2023\")"
   ]
  },
  {
   "cell_type": "code",
   "execution_count": 58,
   "id": "a95bc9b7-6e23-4482-97fa-8500f1b836c2",
   "metadata": {},
   "outputs": [
    {
     "name": "stderr",
     "output_type": "stream",
     "text": [
      "/opt/anaconda3/lib/python3.11/site-packages/seaborn/_oldcore.py:1119: FutureWarning: use_inf_as_na option is deprecated and will be removed in a future version. Convert inf values to NaN before operating instead.\n",
      "  with pd.option_context('mode.use_inf_as_na', True):\n"
     ]
    },
    {
     "data": {
      "text/plain": [
       "<Axes: xlabel='salary_in_usd', ylabel='Count'>"
      ]
     },
     "execution_count": 58,
     "metadata": {},
     "output_type": "execute_result"
    },
    {
     "data": {
      "image/png": "[encoded data removed]",
      "text/plain": [
       "<Figure size 640x480 with 1 Axes>"
      ]
     },
     "metadata": {},
     "output_type": "display_data"
    }
   ],
   "source": [
    "sns.histplot(grouped_year_2023['salary_in_usd'], bins=100) "
   ]
  },
  {
   "cell_type": "code",
   "execution_count": 18,
   "id": "172cae8c-201a-4d84-b366-fff643f64b19",
   "metadata": {},
   "outputs": [
    {
     "name": "stderr",
     "output_type": "stream",
     "text": [
      "/opt/anaconda3/lib/python3.11/site-packages/seaborn/_oldcore.py:1119: FutureWarning: use_inf_as_na option is deprecated and will be removed in a future version. Convert inf values to NaN before operating instead.\n",
      "  with pd.option_context('mode.use_inf_as_na', True):\n"
     ]
    },
    {
     "data": {
      "text/plain": [
       "<Axes: xlabel='salary_in_usd', ylabel='Count'>"
      ]
     },
     "execution_count": 18,
     "metadata": {},
     "output_type": "execute_result"
    },
    {
     "data": {
      "image/png": "[encoded data removed]",
      "text/plain": [
       "<Figure size 640x480 with 1 Axes>"
      ]
     },
     "metadata": {},
     "output_type": "display_data"
    }
   ],
   "source": [
    "# the distribution of the salary\n",
    "sns.histplot(df['salary_in_usd'], bins=100) "
   ]
  },
  {
   "cell_type": "code",
   "execution_count": 64,
   "id": "488a5b10-6c7c-4a73-87cf-e5a1f3326e6c",
   "metadata": {},
   "outputs": [
    {
     "data": {
      "text/html": [
       "<div>\n",
       "<style scoped>\n",
       "    .dataframe tbody tr th:only-of-type {\n",
       "        vertical-align: middle;\n",
       "    }\n",
       "\n",
       "    .dataframe tbody tr th {\n",
       "        vertical-align: top;\n",
       "    }\n",
       "\n",
       "    .dataframe thead tr th {\n",
       "        text-align: left;\n",
       "    }\n",
       "\n",
       "    .dataframe thead tr:last-of-type th {\n",
       "        text-align: right;\n",
       "    }\n",
       "</style>\n",
       "<table border=\"1\" class=\"dataframe\">\n",
       "  <thead>\n",
       "    <tr>\n",
       "      <th></th>\n",
       "      <th colspan=\"4\" halign=\"left\">salary_in_usd</th>\n",
       "    </tr>\n",
       "    <tr>\n",
       "      <th>year</th>\n",
       "      <th>2020</th>\n",
       "      <th>2021</th>\n",
       "      <th>2022</th>\n",
       "      <th>2023</th>\n",
       "    </tr>\n",
       "    <tr>\n",
       "      <th>job_title</th>\n",
       "      <th></th>\n",
       "      <th></th>\n",
       "      <th></th>\n",
       "      <th></th>\n",
       "    </tr>\n",
       "  </thead>\n",
       "  <tbody>\n",
       "    <tr>\n",
       "      <th>3D Computer Vision Researcher</th>\n",
       "      <td>NaN</td>\n",
       "      <td>12704.5</td>\n",
       "      <td>30000.0</td>\n",
       "      <td>NaN</td>\n",
       "    </tr>\n",
       "    <tr>\n",
       "      <th>AI Developer</th>\n",
       "      <td>NaN</td>\n",
       "      <td>NaN</td>\n",
       "      <td>193768.0</td>\n",
       "      <td>115252.9</td>\n",
       "    </tr>\n",
       "    <tr>\n",
       "      <th>AI Programmer</th>\n",
       "      <td>NaN</td>\n",
       "      <td>NaN</td>\n",
       "      <td>40000.0</td>\n",
       "      <td>70000.0</td>\n",
       "    </tr>\n",
       "    <tr>\n",
       "      <th>AI Scientist</th>\n",
       "      <td>45896.0</td>\n",
       "      <td>25410.6</td>\n",
       "      <td>140815.0</td>\n",
       "      <td>231232.5</td>\n",
       "    </tr>\n",
       "    <tr>\n",
       "      <th>Analytics Engineer</th>\n",
       "      <td>NaN</td>\n",
       "      <td>NaN</td>\n",
       "      <td>137969.8</td>\n",
       "      <td>170210.7</td>\n",
       "    </tr>\n",
       "    <tr>\n",
       "      <th>...</th>\n",
       "      <td>...</td>\n",
       "      <td>...</td>\n",
       "      <td>...</td>\n",
       "      <td>...</td>\n",
       "    </tr>\n",
       "    <tr>\n",
       "      <th>Research Engineer</th>\n",
       "      <td>NaN</td>\n",
       "      <td>NaN</td>\n",
       "      <td>207870.0</td>\n",
       "      <td>156114.4</td>\n",
       "    </tr>\n",
       "    <tr>\n",
       "      <th>Research Scientist</th>\n",
       "      <td>246000.0</td>\n",
       "      <td>83003.6</td>\n",
       "      <td>142188.7</td>\n",
       "      <td>177539.9</td>\n",
       "    </tr>\n",
       "    <tr>\n",
       "      <th>Software Data Engineer</th>\n",
       "      <td>NaN</td>\n",
       "      <td>NaN</td>\n",
       "      <td>NaN</td>\n",
       "      <td>62510.0</td>\n",
       "    </tr>\n",
       "    <tr>\n",
       "      <th>Staff Data Analyst</th>\n",
       "      <td>15000.0</td>\n",
       "      <td>NaN</td>\n",
       "      <td>NaN</td>\n",
       "      <td>NaN</td>\n",
       "    </tr>\n",
       "    <tr>\n",
       "      <th>Staff Data Scientist</th>\n",
       "      <td>NaN</td>\n",
       "      <td>105000.0</td>\n",
       "      <td>NaN</td>\n",
       "      <td>NaN</td>\n",
       "    </tr>\n",
       "  </tbody>\n",
       "</table>\n",
       "<p>93 rows × 4 columns</p>\n",
       "</div>"
      ],
      "text/plain": [
       "                              salary_in_usd                              \n",
       "year                                   2020      2021      2022      2023\n",
       "job_title                                                                \n",
       "3D Computer Vision Researcher           NaN   12704.5   30000.0       NaN\n",
       "AI Developer                            NaN       NaN  193768.0  115252.9\n",
       "AI Programmer                           NaN       NaN   40000.0   70000.0\n",
       "AI Scientist                        45896.0   25410.6  140815.0  231232.5\n",
       "Analytics Engineer                      NaN       NaN  137969.8  170210.7\n",
       "...                                     ...       ...       ...       ...\n",
       "Research Engineer                       NaN       NaN  207870.0  156114.4\n",
       "Research Scientist                 246000.0   83003.6  142188.7  177539.9\n",
       "Software Data Engineer                  NaN       NaN       NaN   62510.0\n",
       "Staff Data Analyst                  15000.0       NaN       NaN       NaN\n",
       "Staff Data Scientist                    NaN  105000.0       NaN       NaN\n",
       "\n",
       "[93 rows x 4 columns]"
      ]
     },
     "execution_count": 64,
     "metadata": {},
     "output_type": "execute_result"
    }
   ],
   "source": [
    "pivot_df = df.pivot_table(index='job_title', columns='year', values=['salary_in_usd'], aggfunc='mean')\n",
    "#sort_pivot_df = pivot_df.sort_values(ascending = True)\n",
    "round(pivot_df,1)"
   ]
  },
  {
   "cell_type": "code",
   "execution_count": null,
   "id": "75a2d950-c5a7-4878-9783-6eb04a435fa7",
   "metadata": {},
   "outputs": [],
   "source": []
  },
  {
   "cell_type": "code",
   "execution_count": null,
   "id": "bd105dc9-92a5-425e-94ae-a7b3b2d7baf5",
   "metadata": {},
   "outputs": [],
   "source": []
  },
  {
   "cell_type": "code",
   "execution_count": null,
   "id": "09e1b66a-2ed5-4bd1-9d70-eeb4b57b7d04",
   "metadata": {},
   "outputs": [],
   "source": []
  },
  {
   "cell_type": "code",
   "execution_count": null,
   "id": "487c459b-d88e-4d4e-9d2f-4ddc929cc924",
   "metadata": {},
   "outputs": [],
   "source": []
  },
  {
   "cell_type": "code",
   "execution_count": null,
   "id": "148b3fe9-c031-47ca-817e-2ca34168c15b",
   "metadata": {},
   "outputs": [],
   "source": []
  },
  {
   "cell_type": "code",
   "execution_count": null,
   "id": "7dd04cd4-91f2-4a61-b4f5-1de64b3199a1",
   "metadata": {},
   "outputs": [],
   "source": []
  },
  {
   "cell_type": "code",
   "execution_count": null,
   "id": "9bc89996-e6fb-4e2e-bd8f-4d786de7920a",
   "metadata": {},
   "outputs": [],
   "source": []
  },
  {
   "cell_type": "markdown",
   "id": "209cd36a-cf9b-49bc-989b-30e7885b8c30",
   "metadata": {},
   "source": [
    "#### Drafts"
   ]
  },
  {
   "cell_type": "code",
   "execution_count": null,
   "id": "39a1fb1f-e7e2-4459-89dd-631c77eaf18a",
   "metadata": {},
   "outputs": [],
   "source": [
    "#df.shape\n",
    "#round(df.describe(),2)\n",
    "#df.describe(include=\"object\")\n",
    "#df.info()\n",
    "#df.columns\n",
    "#df.nunique()\n",
    "#df.work_year.nunique()\n",
    "#df.work_year.unique()\n",
    "#df.dtypes\n",
    "#df.select_dtypes(include='number')\n",
    "#df.select_dtypes(include='object')\n",
    "#df.select_dtypes(include='number').max()"
   ]
  },
  {
   "cell_type": "code",
   "execution_count": 77,
   "id": "4e64b65e-d02a-47db-8169-06d0bc2f3ea6",
   "metadata": {},
   "outputs": [],
   "source": [
    "#Create a Dataframe -  I haven't used, yet\n",
    "grouped_experience_level = df.groupby('experience_level')\n",
    "# Creating a Dataframe by each experience_level - I haven't used, yet\n",
    "grouped_experience_level_EN = grouped_experience_level .get_group('EN').head()    #EN Entry-level\n",
    "grouped_experience_level_MI = grouped_experience_level .get_group('MI').head()   #MI Junior Mid-level\n",
    "grouped_experience_level_SE = grouped_experience_level .get_group('SE').head()   #SE Intermediate Senior-level\n",
    "grouped_experience_level_EX = grouped_experience_level .get_group('EX').head()   #EX Expert Executive-level / Director"
   ]
  },
  {
   "cell_type": "code",
   "execution_count": null,
   "id": "4c53544c-7208-4732-bae1-81fafbf1408c",
   "metadata": {},
   "outputs": [],
   "source": [
    "result1 = round(df.groupby('company_location_name')['job_title'].agg(['count']),1)\n",
    "sorted_result1 = result1.sort_values(by='count', ascending=False)\n",
    "sorted_result1[0:10]"
   ]
  },
  {
   "cell_type": "code",
   "execution_count": null,
   "id": "2c2d48d7-3f00-4944-9481-d9a6a4c6b9cd",
   "metadata": {},
   "outputs": [],
   "source": [
    "list(df.columns) "
   ]
  },
  {
   "cell_type": "code",
   "execution_count": null,
   "id": "44c97939-a0a6-460a-8def-36aaa8e1ff28",
   "metadata": {},
   "outputs": [],
   "source": [
    "df.job_title.nunique()"
   ]
  },
  {
   "cell_type": "code",
   "execution_count": null,
   "id": "2c0057d6-0192-4cf5-afc2-c16245902632",
   "metadata": {
    "scrolled": true
   },
   "outputs": [],
   "source": [
    "job_title_list = list(df.job_title.unique())\n",
    "sorted(job_title_list)"
   ]
  }
 ],
 "metadata": {
  "kernelspec": {
   "display_name": "Python 3 (ipykernel)",
   "language": "python",
   "name": "python3"
  },
  "language_info": {
   "codemirror_mode": {
    "name": "ipython",
    "version": 3
   },
   "file_extension": ".py",
   "mimetype": "text/x-python",
   "name": "python",
   "nbconvert_exporter": "python",
   "pygments_lexer": "ipython3",
   "version": "3.11.7"
  }
 },
 "nbformat": 4,
 "nbformat_minor": 5
}
